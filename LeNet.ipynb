{
 "cells": [
  {
   "cell_type": "code",
   "execution_count": 1,
   "metadata": {},
   "outputs": [],
   "source": [
    "import tensorflow as tf"
   ]
  },
  {
   "cell_type": "code",
   "execution_count": 2,
   "metadata": {},
   "outputs": [],
   "source": [
    "import numpy as np"
   ]
  },
  {
   "cell_type": "code",
   "execution_count": 3,
   "metadata": {},
   "outputs": [
    {
     "name": "stderr",
     "output_type": "stream",
     "text": [
      "Using TensorFlow backend.\n"
     ]
    }
   ],
   "source": [
    "from keras.models import Sequential"
   ]
  },
  {
   "cell_type": "code",
   "execution_count": 30,
   "metadata": {},
   "outputs": [],
   "source": [
    "from keras.layers.core import Dense, Dropout, Activation,Flatten"
   ]
  },
  {
   "cell_type": "code",
   "execution_count": 5,
   "metadata": {},
   "outputs": [],
   "source": [
    "from keras.layers.convolutional import Conv2D, MaxPooling2D"
   ]
  },
  {
   "cell_type": "code",
   "execution_count": 6,
   "metadata": {},
   "outputs": [],
   "source": [
    "from keras.datasets import mnist"
   ]
  },
  {
   "cell_type": "code",
   "execution_count": 7,
   "metadata": {
    "scrolled": false
   },
   "outputs": [
    {
     "name": "stdout",
     "output_type": "stream",
     "text": [
      "A local file was found, but it seems to be incomplete or outdated because the auto file hash does not match the original value of 8a61469f7ea1b51cbae51d4f78837e45 so we will re-download the data.\n",
      "Downloading data from https://s3.amazonaws.com/img-datasets/mnist.npz\n",
      "11493376/11490434 [==============================] - 27s 2us/step\n",
      "11501568/11490434 [==============================] - 27s 2us/step\n"
     ]
    }
   ],
   "source": [
    "(X_train, y_train), (X_test, y_test) = mnist.load_data()"
   ]
  },
  {
   "cell_type": "code",
   "execution_count": 8,
   "metadata": {},
   "outputs": [
    {
     "name": "stdout",
     "output_type": "stream",
     "text": [
      "(28, 28)\n"
     ]
    }
   ],
   "source": [
    "print(X_train[0].shape)"
   ]
  },
  {
   "cell_type": "code",
   "execution_count": 9,
   "metadata": {},
   "outputs": [
    {
     "name": "stdout",
     "output_type": "stream",
     "text": [
      "5\n"
     ]
    }
   ],
   "source": [
    "print(y_train[0])"
   ]
  },
  {
   "cell_type": "code",
   "execution_count": 10,
   "metadata": {},
   "outputs": [],
   "source": [
    "X_train = X_train.reshape(X_train.shape[0],28,28,1).astype('float32')"
   ]
  },
  {
   "cell_type": "code",
   "execution_count": 11,
   "metadata": {},
   "outputs": [],
   "source": [
    "X_test = X_test.reshape(X_test.shape[0],28,28,1).astype('float32')"
   ]
  },
  {
   "cell_type": "code",
   "execution_count": 12,
   "metadata": {},
   "outputs": [],
   "source": [
    "X_train /= 255\n"
   ]
  },
  {
   "cell_type": "code",
   "execution_count": 13,
   "metadata": {},
   "outputs": [],
   "source": [
    "X_test /= 255"
   ]
  },
  {
   "cell_type": "code",
   "execution_count": 15,
   "metadata": {},
   "outputs": [],
   "source": [
    "def tran_y(y):\n",
    "    y_ohe = np.zeros(10)\n",
    "    y_ohe[y] = 1\n",
    "    return y_ohe"
   ]
  },
  {
   "cell_type": "code",
   "execution_count": 17,
   "metadata": {},
   "outputs": [],
   "source": [
    "y_train_ohe = np.array([tran_y(y_train[i]) for i in range(len(y_train))])"
   ]
  },
  {
   "cell_type": "code",
   "execution_count": 19,
   "metadata": {},
   "outputs": [],
   "source": [
    "y_test_ohe = np.array([tran_y(y_test[i]) for i in range(len(y_test))])"
   ]
  },
  {
   "cell_type": "code",
   "execution_count": 20,
   "metadata": {},
   "outputs": [],
   "source": [
    "model = Sequential()"
   ]
  },
  {
   "cell_type": "code",
   "execution_count": 23,
   "metadata": {},
   "outputs": [],
   "source": [
    "model.add(Conv2D(filters = 64, kernel_size = (3,3), strides = (1,1), padding = 'same', \n",
    "                input_shape = (28, 28, 1), activation = 'relu'))"
   ]
  },
  {
   "cell_type": "code",
   "execution_count": 24,
   "metadata": {},
   "outputs": [],
   "source": [
    "model.add(MaxPooling2D(pool_size = (2, 2)))"
   ]
  },
  {
   "cell_type": "code",
   "execution_count": 25,
   "metadata": {},
   "outputs": [],
   "source": [
    "model.add(Dropout(0.5))"
   ]
  },
  {
   "cell_type": "code",
   "execution_count": 26,
   "metadata": {},
   "outputs": [],
   "source": [
    "model.add(Conv2D(filters = 64, kernel_size = (3,3), strides = (1,1), padding = 'same', \n",
    "                input_shape = (28, 28, 1), activation = 'relu'))"
   ]
  },
  {
   "cell_type": "code",
   "execution_count": 27,
   "metadata": {},
   "outputs": [],
   "source": [
    "model.add(MaxPooling2D(pool_size = (2, 2)))"
   ]
  },
  {
   "cell_type": "code",
   "execution_count": 28,
   "metadata": {},
   "outputs": [],
   "source": [
    "model.add(Dropout(0.5))"
   ]
  },
  {
   "cell_type": "code",
   "execution_count": 31,
   "metadata": {},
   "outputs": [],
   "source": [
    "model.add(Flatten())"
   ]
  },
  {
   "cell_type": "code",
   "execution_count": 32,
   "metadata": {},
   "outputs": [],
   "source": [
    "model.add(Dense(128, activation = 'relu'))"
   ]
  },
  {
   "cell_type": "code",
   "execution_count": 33,
   "metadata": {},
   "outputs": [],
   "source": [
    "model.add(Dense(64, activation = 'relu'))"
   ]
  },
  {
   "cell_type": "code",
   "execution_count": 34,
   "metadata": {},
   "outputs": [],
   "source": [
    "model.add(Dense(32, activation = 'relu'))"
   ]
  },
  {
   "cell_type": "code",
   "execution_count": 35,
   "metadata": {},
   "outputs": [],
   "source": [
    "model.add(Dense(10, activation = 'softmax'))"
   ]
  },
  {
   "cell_type": "code",
   "execution_count": 36,
   "metadata": {},
   "outputs": [],
   "source": [
    "model.compile(loss = 'categorical_crossentropy', optimizer = 'adagrad')"
   ]
  },
  {
   "cell_type": "code",
   "execution_count": 37,
   "metadata": {},
   "outputs": [],
   "source": [
    "metrics = ['accuracy']"
   ]
  },
  {
   "cell_type": "code",
   "execution_count": null,
   "metadata": {},
   "outputs": [
    {
     "name": "stdout",
     "output_type": "stream",
     "text": [
      "Train on 60000 samples, validate on 10000 samples\n",
      "Epoch 1/20\n",
      "60000/60000 [==============================] - 999s 17ms/step - loss: 0.3266 - val_loss: 0.0707\n",
      "Epoch 2/20\n",
      "60000/60000 [==============================] - 1030s 17ms/step - loss: 0.0962 - val_loss: 0.0536\n",
      "Epoch 3/20\n",
      "60000/60000 [==============================] - 1121s 19ms/step - loss: 0.0765 - val_loss: 0.0418\n",
      "Epoch 4/20\n",
      "60000/60000 [==============================] - 1092s 18ms/step - loss: 0.0649 - val_loss: 0.0360\n",
      "Epoch 5/20\n",
      "60000/60000 [==============================] - 1087s 18ms/step - loss: 0.0578 - val_loss: 0.0345\n",
      "Epoch 6/20\n",
      "60000/60000 [==============================] - 1072s 18ms/step - loss: 0.0535 - val_loss: 0.0299\n",
      "Epoch 7/20\n",
      "60000/60000 [==============================] - 1049s 17ms/step - loss: 0.0485 - val_loss: 0.0296\n",
      "Epoch 8/20\n",
      "60000/60000 [==============================] - 1129s 19ms/step - loss: 0.0458 - val_loss: 0.0296\n",
      "Epoch 9/20\n",
      "60000/60000 [==============================] - 1162s 19ms/step - loss: 0.0432 - val_loss: 0.0260\n",
      "Epoch 10/20\n",
      "60000/60000 [==============================] - 1155s 19ms/step - loss: 0.0391 - val_loss: 0.0247\n",
      "Epoch 11/20\n",
      "60000/60000 [==============================] - 1181s 20ms/step - loss: 0.0388 - val_loss: 0.0254\n",
      "Epoch 12/20\n",
      "60000/60000 [==============================] - 1064s 18ms/step - loss: 0.0367 - val_loss: 0.0243\n",
      "Epoch 13/20\n",
      "60000/60000 [==============================] - 1096s 18ms/step - loss: 0.0357 - val_loss: 0.0244\n",
      "Epoch 14/20\n",
      "60000/60000 [==============================] - 1066s 18ms/step - loss: 0.0345 - val_loss: 0.0235\n",
      "Epoch 15/20\n",
      "60000/60000 [==============================] - 1015s 17ms/step - loss: 0.0329 - val_loss: 0.0235\n",
      "Epoch 16/20\n",
      "60000/60000 [==============================] - 1056s 18ms/step - loss: 0.0312 - val_loss: 0.0231\n",
      "Epoch 17/20\n",
      "60000/60000 [==============================] - 1053s 18ms/step - loss: 0.0308 - val_loss: 0.0224\n",
      "Epoch 18/20\n",
      "12800/60000 [=====>........................] - ETA: 13:06 - loss: 0.0327"
     ]
    }
   ],
   "source": [
    "model.fit(X_train, y_train_ohe, validation_data = (X_test, y_test_ohe), \n",
    "         epochs = 20, batch_size = 128)"
   ]
  }
 ],
 "metadata": {
  "kernelspec": {
   "display_name": "Python 2",
   "language": "python",
   "name": "python2"
  },
  "language_info": {
   "codemirror_mode": {
    "name": "ipython",
    "version": 2
   },
   "file_extension": ".py",
   "mimetype": "text/x-python",
   "name": "python",
   "nbconvert_exporter": "python",
   "pygments_lexer": "ipython2",
   "version": "2.7.15"
  }
 },
 "nbformat": 4,
 "nbformat_minor": 2
}
